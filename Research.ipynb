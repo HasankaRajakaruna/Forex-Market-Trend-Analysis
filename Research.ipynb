{
  "nbformat": 4,
  "nbformat_minor": 0,
  "metadata": {
    "colab": {
      "provenance": [],
      "mount_file_id": "1_NxGM1kOSBhWmmz8TsSym0k7V5Bke8A-",
      "authorship_tag": "ABX9TyME4+QJ0gKYoRzYZ3hRGuvV",
      "include_colab_link": true
    },
    "kernelspec": {
      "name": "python3",
      "display_name": "Python 3"
    },
    "language_info": {
      "name": "python"
    }
  },
  "cells": [
    {
      "cell_type": "markdown",
      "metadata": {
        "id": "view-in-github",
        "colab_type": "text"
      },
      "source": [
        "<a href=\"https://colab.research.google.com/github/HasankaRajakaruna/Research-/blob/main/Research.ipynb\" target=\"_parent\"><img src=\"https://colab.research.google.com/assets/colab-badge.svg\" alt=\"Open In Colab\"/></a>"
      ]
    },
    {
      "cell_type": "code",
      "execution_count": 33,
      "metadata": {
        "id": "JlAvbDkI3kdh"
      },
      "outputs": [],
      "source": [
        "import matplotlib.pyplot as plt\n",
        "import pandas as pd\n",
        "from sklearn.preprocessing import MinMaxScaler\n",
        "from sklearn.ensemble import RandomForestClassifier\n",
        "from sklearn.feature_selection import SelectFromModel\n",
        "from sklearn.datasets import load_iris\n",
        "from sklearn.model_selection import train_test_split"
      ]
    },
    {
      "cell_type": "code",
      "source": [
        "dataset = pd.read_csv('/content/drive/MyDrive/dataset.csv')"
      ],
      "metadata": {
        "id": "Z8NARmCX3nkt"
      },
      "execution_count": 34,
      "outputs": []
    },
    {
      "cell_type": "code",
      "source": [
        "dataset.head()"
      ],
      "metadata": {
        "colab": {
          "base_uri": "https://localhost:8080/",
          "height": 235
        },
        "id": "N4DvlYy533q1",
        "outputId": "71a40993-49ac-4b60-8a1a-00372928cb3a"
      },
      "execution_count": 35,
      "outputs": [
        {
          "output_type": "execute_result",
          "data": {
            "text/plain": [
              "    rsi1   rsi2   rsi3   rsi4   rsi5   rsi6  stoch1  stoch2  stoch3  stoch4  \\\n",
              "0  28.90  31.07  40.01  40.51  39.95  41.98   13.53   29.27   46.80   43.52   \n",
              "1  27.39  28.90  31.07  40.01  40.51  39.95    3.93   13.53   29.27   46.80   \n",
              "2  28.41  27.39  28.90  31.07  40.01  40.51    4.27    3.93   13.53   29.27   \n",
              "3  34.48  28.41  27.39  28.90  31.07  40.01   12.99    4.27    3.93   13.53   \n",
              "4  33.35  34.48  28.41  27.39  28.90  31.07   24.48   12.99    4.27    3.93   \n",
              "\n",
              "   ...   WPR6  close1  close2  close3  close4  close5  close6  hour  \\\n",
              "0  ... -56.09  1.3132  1.3132  1.3132  1.3132  1.3132  1.3132     0   \n",
              "1  ... -65.93  1.3125  1.3125  1.3125  1.3125  1.3125  1.3125     4   \n",
              "2  ... -68.07  1.3127  1.3127  1.3127  1.3127  1.3127  1.3127     8   \n",
              "3  ... -74.34  1.3138  1.3138  1.3138  1.3138  1.3138  1.3138    12   \n",
              "4  ... -92.30  1.3134  1.3134  1.3134  1.3134  1.3134  1.3134    16   \n",
              "\n",
              "   dayOfWeek  tipo  \n",
              "0          1     1  \n",
              "1          1     1  \n",
              "2          1     1  \n",
              "3          1     1  \n",
              "4          1     1  \n",
              "\n",
              "[5 rows x 99 columns]"
            ],
            "text/html": [
              "\n",
              "  <div id=\"df-f3d9db2d-d7fc-43c2-b1df-9d5fa8f4e977\" class=\"colab-df-container\">\n",
              "    <div>\n",
              "<style scoped>\n",
              "    .dataframe tbody tr th:only-of-type {\n",
              "        vertical-align: middle;\n",
              "    }\n",
              "\n",
              "    .dataframe tbody tr th {\n",
              "        vertical-align: top;\n",
              "    }\n",
              "\n",
              "    .dataframe thead th {\n",
              "        text-align: right;\n",
              "    }\n",
              "</style>\n",
              "<table border=\"1\" class=\"dataframe\">\n",
              "  <thead>\n",
              "    <tr style=\"text-align: right;\">\n",
              "      <th></th>\n",
              "      <th>rsi1</th>\n",
              "      <th>rsi2</th>\n",
              "      <th>rsi3</th>\n",
              "      <th>rsi4</th>\n",
              "      <th>rsi5</th>\n",
              "      <th>rsi6</th>\n",
              "      <th>stoch1</th>\n",
              "      <th>stoch2</th>\n",
              "      <th>stoch3</th>\n",
              "      <th>stoch4</th>\n",
              "      <th>...</th>\n",
              "      <th>WPR6</th>\n",
              "      <th>close1</th>\n",
              "      <th>close2</th>\n",
              "      <th>close3</th>\n",
              "      <th>close4</th>\n",
              "      <th>close5</th>\n",
              "      <th>close6</th>\n",
              "      <th>hour</th>\n",
              "      <th>dayOfWeek</th>\n",
              "      <th>tipo</th>\n",
              "    </tr>\n",
              "  </thead>\n",
              "  <tbody>\n",
              "    <tr>\n",
              "      <th>0</th>\n",
              "      <td>28.90</td>\n",
              "      <td>31.07</td>\n",
              "      <td>40.01</td>\n",
              "      <td>40.51</td>\n",
              "      <td>39.95</td>\n",
              "      <td>41.98</td>\n",
              "      <td>13.53</td>\n",
              "      <td>29.27</td>\n",
              "      <td>46.80</td>\n",
              "      <td>43.52</td>\n",
              "      <td>...</td>\n",
              "      <td>-56.09</td>\n",
              "      <td>1.3132</td>\n",
              "      <td>1.3132</td>\n",
              "      <td>1.3132</td>\n",
              "      <td>1.3132</td>\n",
              "      <td>1.3132</td>\n",
              "      <td>1.3132</td>\n",
              "      <td>0</td>\n",
              "      <td>1</td>\n",
              "      <td>1</td>\n",
              "    </tr>\n",
              "    <tr>\n",
              "      <th>1</th>\n",
              "      <td>27.39</td>\n",
              "      <td>28.90</td>\n",
              "      <td>31.07</td>\n",
              "      <td>40.01</td>\n",
              "      <td>40.51</td>\n",
              "      <td>39.95</td>\n",
              "      <td>3.93</td>\n",
              "      <td>13.53</td>\n",
              "      <td>29.27</td>\n",
              "      <td>46.80</td>\n",
              "      <td>...</td>\n",
              "      <td>-65.93</td>\n",
              "      <td>1.3125</td>\n",
              "      <td>1.3125</td>\n",
              "      <td>1.3125</td>\n",
              "      <td>1.3125</td>\n",
              "      <td>1.3125</td>\n",
              "      <td>1.3125</td>\n",
              "      <td>4</td>\n",
              "      <td>1</td>\n",
              "      <td>1</td>\n",
              "    </tr>\n",
              "    <tr>\n",
              "      <th>2</th>\n",
              "      <td>28.41</td>\n",
              "      <td>27.39</td>\n",
              "      <td>28.90</td>\n",
              "      <td>31.07</td>\n",
              "      <td>40.01</td>\n",
              "      <td>40.51</td>\n",
              "      <td>4.27</td>\n",
              "      <td>3.93</td>\n",
              "      <td>13.53</td>\n",
              "      <td>29.27</td>\n",
              "      <td>...</td>\n",
              "      <td>-68.07</td>\n",
              "      <td>1.3127</td>\n",
              "      <td>1.3127</td>\n",
              "      <td>1.3127</td>\n",
              "      <td>1.3127</td>\n",
              "      <td>1.3127</td>\n",
              "      <td>1.3127</td>\n",
              "      <td>8</td>\n",
              "      <td>1</td>\n",
              "      <td>1</td>\n",
              "    </tr>\n",
              "    <tr>\n",
              "      <th>3</th>\n",
              "      <td>34.48</td>\n",
              "      <td>28.41</td>\n",
              "      <td>27.39</td>\n",
              "      <td>28.90</td>\n",
              "      <td>31.07</td>\n",
              "      <td>40.01</td>\n",
              "      <td>12.99</td>\n",
              "      <td>4.27</td>\n",
              "      <td>3.93</td>\n",
              "      <td>13.53</td>\n",
              "      <td>...</td>\n",
              "      <td>-74.34</td>\n",
              "      <td>1.3138</td>\n",
              "      <td>1.3138</td>\n",
              "      <td>1.3138</td>\n",
              "      <td>1.3138</td>\n",
              "      <td>1.3138</td>\n",
              "      <td>1.3138</td>\n",
              "      <td>12</td>\n",
              "      <td>1</td>\n",
              "      <td>1</td>\n",
              "    </tr>\n",
              "    <tr>\n",
              "      <th>4</th>\n",
              "      <td>33.35</td>\n",
              "      <td>34.48</td>\n",
              "      <td>28.41</td>\n",
              "      <td>27.39</td>\n",
              "      <td>28.90</td>\n",
              "      <td>31.07</td>\n",
              "      <td>24.48</td>\n",
              "      <td>12.99</td>\n",
              "      <td>4.27</td>\n",
              "      <td>3.93</td>\n",
              "      <td>...</td>\n",
              "      <td>-92.30</td>\n",
              "      <td>1.3134</td>\n",
              "      <td>1.3134</td>\n",
              "      <td>1.3134</td>\n",
              "      <td>1.3134</td>\n",
              "      <td>1.3134</td>\n",
              "      <td>1.3134</td>\n",
              "      <td>16</td>\n",
              "      <td>1</td>\n",
              "      <td>1</td>\n",
              "    </tr>\n",
              "  </tbody>\n",
              "</table>\n",
              "<p>5 rows × 99 columns</p>\n",
              "</div>\n",
              "    <div class=\"colab-df-buttons\">\n",
              "\n",
              "  <div class=\"colab-df-container\">\n",
              "    <button class=\"colab-df-convert\" onclick=\"convertToInteractive('df-f3d9db2d-d7fc-43c2-b1df-9d5fa8f4e977')\"\n",
              "            title=\"Convert this dataframe to an interactive table.\"\n",
              "            style=\"display:none;\">\n",
              "\n",
              "  <svg xmlns=\"http://www.w3.org/2000/svg\" height=\"24px\" viewBox=\"0 -960 960 960\">\n",
              "    <path d=\"M120-120v-720h720v720H120Zm60-500h600v-160H180v160Zm220 220h160v-160H400v160Zm0 220h160v-160H400v160ZM180-400h160v-160H180v160Zm440 0h160v-160H620v160ZM180-180h160v-160H180v160Zm440 0h160v-160H620v160Z\"/>\n",
              "  </svg>\n",
              "    </button>\n",
              "\n",
              "  <style>\n",
              "    .colab-df-container {\n",
              "      display:flex;\n",
              "      gap: 12px;\n",
              "    }\n",
              "\n",
              "    .colab-df-convert {\n",
              "      background-color: #E8F0FE;\n",
              "      border: none;\n",
              "      border-radius: 50%;\n",
              "      cursor: pointer;\n",
              "      display: none;\n",
              "      fill: #1967D2;\n",
              "      height: 32px;\n",
              "      padding: 0 0 0 0;\n",
              "      width: 32px;\n",
              "    }\n",
              "\n",
              "    .colab-df-convert:hover {\n",
              "      background-color: #E2EBFA;\n",
              "      box-shadow: 0px 1px 2px rgba(60, 64, 67, 0.3), 0px 1px 3px 1px rgba(60, 64, 67, 0.15);\n",
              "      fill: #174EA6;\n",
              "    }\n",
              "\n",
              "    .colab-df-buttons div {\n",
              "      margin-bottom: 4px;\n",
              "    }\n",
              "\n",
              "    [theme=dark] .colab-df-convert {\n",
              "      background-color: #3B4455;\n",
              "      fill: #D2E3FC;\n",
              "    }\n",
              "\n",
              "    [theme=dark] .colab-df-convert:hover {\n",
              "      background-color: #434B5C;\n",
              "      box-shadow: 0px 1px 3px 1px rgba(0, 0, 0, 0.15);\n",
              "      filter: drop-shadow(0px 1px 2px rgba(0, 0, 0, 0.3));\n",
              "      fill: #FFFFFF;\n",
              "    }\n",
              "  </style>\n",
              "\n",
              "    <script>\n",
              "      const buttonEl =\n",
              "        document.querySelector('#df-f3d9db2d-d7fc-43c2-b1df-9d5fa8f4e977 button.colab-df-convert');\n",
              "      buttonEl.style.display =\n",
              "        google.colab.kernel.accessAllowed ? 'block' : 'none';\n",
              "\n",
              "      async function convertToInteractive(key) {\n",
              "        const element = document.querySelector('#df-f3d9db2d-d7fc-43c2-b1df-9d5fa8f4e977');\n",
              "        const dataTable =\n",
              "          await google.colab.kernel.invokeFunction('convertToInteractive',\n",
              "                                                    [key], {});\n",
              "        if (!dataTable) return;\n",
              "\n",
              "        const docLinkHtml = 'Like what you see? Visit the ' +\n",
              "          '<a target=\"_blank\" href=https://colab.research.google.com/notebooks/data_table.ipynb>data table notebook</a>'\n",
              "          + ' to learn more about interactive tables.';\n",
              "        element.innerHTML = '';\n",
              "        dataTable['output_type'] = 'display_data';\n",
              "        await google.colab.output.renderOutput(dataTable, element);\n",
              "        const docLink = document.createElement('div');\n",
              "        docLink.innerHTML = docLinkHtml;\n",
              "        element.appendChild(docLink);\n",
              "      }\n",
              "    </script>\n",
              "  </div>\n",
              "\n",
              "\n",
              "<div id=\"df-30d8e994-c242-4b78-8a4e-726d42d7d62b\">\n",
              "  <button class=\"colab-df-quickchart\" onclick=\"quickchart('df-30d8e994-c242-4b78-8a4e-726d42d7d62b')\"\n",
              "            title=\"Suggest charts\"\n",
              "            style=\"display:none;\">\n",
              "\n",
              "<svg xmlns=\"http://www.w3.org/2000/svg\" height=\"24px\"viewBox=\"0 0 24 24\"\n",
              "     width=\"24px\">\n",
              "    <g>\n",
              "        <path d=\"M19 3H5c-1.1 0-2 .9-2 2v14c0 1.1.9 2 2 2h14c1.1 0 2-.9 2-2V5c0-1.1-.9-2-2-2zM9 17H7v-7h2v7zm4 0h-2V7h2v10zm4 0h-2v-4h2v4z\"/>\n",
              "    </g>\n",
              "</svg>\n",
              "  </button>\n",
              "\n",
              "<style>\n",
              "  .colab-df-quickchart {\n",
              "      --bg-color: #E8F0FE;\n",
              "      --fill-color: #1967D2;\n",
              "      --hover-bg-color: #E2EBFA;\n",
              "      --hover-fill-color: #174EA6;\n",
              "      --disabled-fill-color: #AAA;\n",
              "      --disabled-bg-color: #DDD;\n",
              "  }\n",
              "\n",
              "  [theme=dark] .colab-df-quickchart {\n",
              "      --bg-color: #3B4455;\n",
              "      --fill-color: #D2E3FC;\n",
              "      --hover-bg-color: #434B5C;\n",
              "      --hover-fill-color: #FFFFFF;\n",
              "      --disabled-bg-color: #3B4455;\n",
              "      --disabled-fill-color: #666;\n",
              "  }\n",
              "\n",
              "  .colab-df-quickchart {\n",
              "    background-color: var(--bg-color);\n",
              "    border: none;\n",
              "    border-radius: 50%;\n",
              "    cursor: pointer;\n",
              "    display: none;\n",
              "    fill: var(--fill-color);\n",
              "    height: 32px;\n",
              "    padding: 0;\n",
              "    width: 32px;\n",
              "  }\n",
              "\n",
              "  .colab-df-quickchart:hover {\n",
              "    background-color: var(--hover-bg-color);\n",
              "    box-shadow: 0 1px 2px rgba(60, 64, 67, 0.3), 0 1px 3px 1px rgba(60, 64, 67, 0.15);\n",
              "    fill: var(--button-hover-fill-color);\n",
              "  }\n",
              "\n",
              "  .colab-df-quickchart-complete:disabled,\n",
              "  .colab-df-quickchart-complete:disabled:hover {\n",
              "    background-color: var(--disabled-bg-color);\n",
              "    fill: var(--disabled-fill-color);\n",
              "    box-shadow: none;\n",
              "  }\n",
              "\n",
              "  .colab-df-spinner {\n",
              "    border: 2px solid var(--fill-color);\n",
              "    border-color: transparent;\n",
              "    border-bottom-color: var(--fill-color);\n",
              "    animation:\n",
              "      spin 1s steps(1) infinite;\n",
              "  }\n",
              "\n",
              "  @keyframes spin {\n",
              "    0% {\n",
              "      border-color: transparent;\n",
              "      border-bottom-color: var(--fill-color);\n",
              "      border-left-color: var(--fill-color);\n",
              "    }\n",
              "    20% {\n",
              "      border-color: transparent;\n",
              "      border-left-color: var(--fill-color);\n",
              "      border-top-color: var(--fill-color);\n",
              "    }\n",
              "    30% {\n",
              "      border-color: transparent;\n",
              "      border-left-color: var(--fill-color);\n",
              "      border-top-color: var(--fill-color);\n",
              "      border-right-color: var(--fill-color);\n",
              "    }\n",
              "    40% {\n",
              "      border-color: transparent;\n",
              "      border-right-color: var(--fill-color);\n",
              "      border-top-color: var(--fill-color);\n",
              "    }\n",
              "    60% {\n",
              "      border-color: transparent;\n",
              "      border-right-color: var(--fill-color);\n",
              "    }\n",
              "    80% {\n",
              "      border-color: transparent;\n",
              "      border-right-color: var(--fill-color);\n",
              "      border-bottom-color: var(--fill-color);\n",
              "    }\n",
              "    90% {\n",
              "      border-color: transparent;\n",
              "      border-bottom-color: var(--fill-color);\n",
              "    }\n",
              "  }\n",
              "</style>\n",
              "\n",
              "  <script>\n",
              "    async function quickchart(key) {\n",
              "      const quickchartButtonEl =\n",
              "        document.querySelector('#' + key + ' button');\n",
              "      quickchartButtonEl.disabled = true;  // To prevent multiple clicks.\n",
              "      quickchartButtonEl.classList.add('colab-df-spinner');\n",
              "      try {\n",
              "        const charts = await google.colab.kernel.invokeFunction(\n",
              "            'suggestCharts', [key], {});\n",
              "      } catch (error) {\n",
              "        console.error('Error during call to suggestCharts:', error);\n",
              "      }\n",
              "      quickchartButtonEl.classList.remove('colab-df-spinner');\n",
              "      quickchartButtonEl.classList.add('colab-df-quickchart-complete');\n",
              "    }\n",
              "    (() => {\n",
              "      let quickchartButtonEl =\n",
              "        document.querySelector('#df-30d8e994-c242-4b78-8a4e-726d42d7d62b button');\n",
              "      quickchartButtonEl.style.display =\n",
              "        google.colab.kernel.accessAllowed ? 'block' : 'none';\n",
              "    })();\n",
              "  </script>\n",
              "</div>\n",
              "\n",
              "    </div>\n",
              "  </div>\n"
            ],
            "application/vnd.google.colaboratory.intrinsic+json": {
              "type": "dataframe",
              "variable_name": "dataset"
            }
          },
          "metadata": {},
          "execution_count": 35
        }
      ]
    },
    {
      "cell_type": "markdown",
      "source": [
        "Checking missing values"
      ],
      "metadata": {
        "id": "5p2cvG7q41Dy"
      }
    },
    {
      "cell_type": "code",
      "source": [
        "missing_values = dataset.isnull().sum()\n",
        "missing_values"
      ],
      "metadata": {
        "colab": {
          "base_uri": "https://localhost:8080/"
        },
        "id": "csdTz1FJ4AKF",
        "outputId": "93295935-38c2-4efe-fb30-3beb6ee3d6e4"
      },
      "execution_count": 36,
      "outputs": [
        {
          "output_type": "execute_result",
          "data": {
            "text/plain": [
              "rsi1         0\n",
              "rsi2         0\n",
              "rsi3         0\n",
              "rsi4         0\n",
              "rsi5         0\n",
              "            ..\n",
              "close5       0\n",
              "close6       0\n",
              "hour         0\n",
              "dayOfWeek    0\n",
              "tipo         0\n",
              "Length: 99, dtype: int64"
            ]
          },
          "metadata": {},
          "execution_count": 36
        }
      ]
    },
    {
      "cell_type": "markdown",
      "source": [
        "Feature Selection"
      ],
      "metadata": {
        "id": "F1TSgjwl8wpj"
      }
    },
    {
      "cell_type": "code",
      "source": [
        "X_data=dataset.drop(['tipo'],axis=1)\n",
        "y_data=dataset[['tipo']]"
      ],
      "metadata": {
        "id": "vkMjJBl380gU"
      },
      "execution_count": 37,
      "outputs": []
    },
    {
      "cell_type": "code",
      "source": [
        "clf = RandomForestClassifier()\n",
        "sfm = SelectFromModel(clf)\n",
        "sfm.fit(X_data, y_data)\n",
        "X_train_selected = sfm.transform(X_data)\n",
        "selected_features_indices = sfm.get_support(indices=True)"
      ],
      "metadata": {
        "colab": {
          "base_uri": "https://localhost:8080/"
        },
        "id": "ZhDfCR209lfv",
        "outputId": "4d493882-75b9-473c-e5ac-58bf45eea1f7"
      },
      "execution_count": 38,
      "outputs": [
        {
          "output_type": "stream",
          "name": "stderr",
          "text": [
            "/usr/local/lib/python3.10/dist-packages/sklearn/feature_selection/_from_model.py:357: DataConversionWarning: A column-vector y was passed when a 1d array was expected. Please change the shape of y to (n_samples,), for example using ravel().\n",
            "  self.estimator_.fit(X, y, **fit_params)\n"
          ]
        }
      ]
    },
    {
      "cell_type": "code",
      "source": [
        "selected_features_indices"
      ],
      "metadata": {
        "colab": {
          "base_uri": "https://localhost:8080/"
        },
        "id": "SVUiRB10-ovj",
        "outputId": "15135ee6-5d65-4114-865f-046fd2380362"
      },
      "execution_count": 40,
      "outputs": [
        {
          "output_type": "execute_result",
          "data": {
            "text/plain": [
              "array([ 0,  6, 24, 30, 31, 32, 33, 34, 35, 36, 37, 38, 39, 40, 41, 47, 60,\n",
              "       66, 68, 69, 70, 71, 72, 90, 91, 92, 93, 94, 95])"
            ]
          },
          "metadata": {},
          "execution_count": 40
        }
      ]
    },
    {
      "cell_type": "code",
      "source": [
        "#new dataset\n",
        "new_dataset = X_data.iloc[:, selected_features_indices]"
      ],
      "metadata": {
        "id": "bBkjaBC3_n_b"
      },
      "execution_count": 41,
      "outputs": []
    },
    {
      "cell_type": "markdown",
      "source": [
        "Feature Scaling"
      ],
      "metadata": {
        "id": "2nGtLawr5cBA"
      }
    },
    {
      "cell_type": "code",
      "source": [
        "scale = MinMaxScaler(feature_range=(0,1))\n",
        "data_set_scaled = scale.fit_transform(dataset)\n",
        "print(data_set_scaled)"
      ],
      "metadata": {
        "colab": {
          "base_uri": "https://localhost:8080/"
        },
        "id": "w2UbTZDG4ulD",
        "outputId": "9e7fa74b-249c-4727-e435-967dc48af815"
      },
      "execution_count": 8,
      "outputs": [
        {
          "output_type": "stream",
          "name": "stdout",
          "text": [
            "[[0.22242941 0.25133191 0.3704049  ... 0.         0.2        1.        ]\n",
            " [0.20231753 0.22242941 0.25133191 ... 0.17391304 0.2        1.        ]\n",
            " [0.21590304 0.20231753 0.22242941 ... 0.34782609 0.2        1.        ]\n",
            " ...\n",
            " [0.59057006 0.63598828 0.66862014 ... 0.52173913 0.6        1.        ]\n",
            " [0.48201918 0.59057006 0.63598828 ... 0.69565217 0.6        1.        ]\n",
            " [0.44738945 0.48201918 0.59057006 ... 0.86956522 0.6        1.        ]]\n"
          ]
        }
      ]
    },
    {
      "cell_type": "code",
      "source": [],
      "metadata": {
        "id": "Wo-9HJcI8u-W"
      },
      "execution_count": null,
      "outputs": []
    },
    {
      "cell_type": "code",
      "source": [],
      "metadata": {
        "id": "lXWeH0Ra5uvm"
      },
      "execution_count": null,
      "outputs": []
    }
  ]
}